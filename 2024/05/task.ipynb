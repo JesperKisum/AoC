{
 "cells": [
  {
   "cell_type": "code",
   "execution_count": 18,
   "metadata": {},
   "outputs": [
    {
     "name": "stdout",
     "output_type": "stream",
     "text": [
      "<_io.TextIOWrapper name='../secret.key' mode='r' encoding='UTF-8'>\n"
     ]
    }
   ],
   "source": [
    "from aocd import get_data, submit\n",
    "from aocd.models import Puzzle\n",
    "import os\n",
    "from datetime import datetime\n",
    "with open('../secret.key', 'r') as f:\n",
    "    print(f)\n",
    "    os.environ['AOC_SESSION'] = f.read().strip()\n",
    "\n",
    "def parse_data(day):\n",
    "    data = get_data(day=day, year=2024).split('\\n\\n')\n",
    "    #data = [x.split(' ') for x in data]\n",
    "    return data\n",
    "day = datetime.now().day\n",
    "data = parse_data(day)\n",
    "puzzle = Puzzle(year=2024, day=day)\n",
    "\n",
    "print(puzzle.title)"
   ]
  },
  {
   "cell_type": "code",
   "execution_count": 12,
   "metadata": {},
   "outputs": [
    {
     "name": "stdout",
     "output_type": "stream",
     "text": [
      "4462\n"
     ]
    }
   ],
   "source": [
    "rules = data[0].split('\\n')\n",
    "rules = [[int(i) for i in rule.split('|')] for rule in rules]\n",
    "operations = data[1].split('\\n')\n",
    "operations = [[int(i) for i in operation.split(',')] for operation in operations]\n",
    "\n",
    "\n",
    "def check_operation(operation, rules):\n",
    "    for rule in rules:\n",
    "        if rule[0] in operation and rule[1] in operation:\n",
    "            index1 = operation.index(rule[0])\n",
    "            index2 = operation.index(rule[1])\n",
    "            if index1 > index2:\n",
    "                return False\n",
    "    return True \n",
    "\n",
    "\n",
    "puzzle.answer_a = sum(  [operation[len(operation)//2] if check_operation(operation, rules) else 0 for operation in operations]  )\n",
    "print(puzzle.answer_a)"
   ]
  },
  {
   "cell_type": "code",
   "execution_count": 22,
   "metadata": {},
   "outputs": [
    {
     "name": "stdout",
     "output_type": "stream",
     "text": [
      "6767\n"
     ]
    }
   ],
   "source": [
    "rules = data[0].split('\\n')\n",
    "rules = [[int(i) for i in rule.split('|')] for rule in rules]\n",
    "operations = data[1].split('\\n')\n",
    "operations = [[int(i) for i in operation.split(',')] for operation in operations]\n",
    "\n",
    "def rearrange_operation(operation, rules):\n",
    "    while not check_operation(operation, rules):\n",
    "        for i in range(len(operation)):\n",
    "            for j in range(i+1, len(operation)):\n",
    "                if [operation[j], operation[i]] in rules:\n",
    "                    operation[j], operation[i] = operation[i], operation[j]\n",
    "\n",
    "    return operation\n",
    "\n",
    "def check_operation2(operation, rules):\n",
    "    for rule in rules:\n",
    "        if rule[0] in operation and rule[1] in operation:\n",
    "            index1 = operation.index(rule[0])\n",
    "            index2 = operation.index(rule[1])\n",
    "            if index1 > index2:\n",
    "                return rearrange_operation(operation, rules)[len(operation)//2]    \n",
    "    return False\n",
    "\n",
    "\n",
    "puzzle.answer_b = sum([check_operation2(operation, rules) for operation in operations])\n",
    "print(puzzle.answer_b)\n",
    "\n"
   ]
  }
 ],
 "metadata": {
  "kernelspec": {
   "display_name": "Python 3",
   "language": "python",
   "name": "python3"
  },
  "language_info": {
   "codemirror_mode": {
    "name": "ipython",
    "version": 3
   },
   "file_extension": ".py",
   "mimetype": "text/x-python",
   "name": "python",
   "nbconvert_exporter": "python",
   "pygments_lexer": "ipython3",
   "version": "3.11.9"
  }
 },
 "nbformat": 4,
 "nbformat_minor": 2
}
