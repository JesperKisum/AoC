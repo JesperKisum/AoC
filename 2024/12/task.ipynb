{
 "cells": [
  {
   "cell_type": "code",
   "execution_count": 1,
   "metadata": {},
   "outputs": [
    {
     "name": "stdout",
     "output_type": "stream",
     "text": [
      "<_io.TextIOWrapper name='../secret.key' mode='r' encoding='UTF-8'>\n",
      "Garden Groups\n"
     ]
    }
   ],
   "source": [
    "from aocd import get_data, submit\n",
    "from aocd.models import Puzzle\n",
    "import os\n",
    "from datetime import datetime\n",
    "with open('../secret.key', 'r') as f:\n",
    "    print(f)\n",
    "    os.environ['AOC_SESSION'] = f.read().strip()\n",
    "\n",
    "def parse_data(day):\n",
    "    data = get_data(day=day, year=2024)\n",
    "    return data\n",
    "day = datetime.now().day\n",
    "data = parse_data(day)\n",
    "puzzle = Puzzle(year=2024, day=day)\n",
    "\n",
    "#puzzle.view()\n",
    "print(puzzle.title)"
   ]
  },
  {
   "cell_type": "code",
   "execution_count": 2,
   "metadata": {},
   "outputs": [
    {
     "name": "stdout",
     "output_type": "stream",
     "text": [
      "1415378\n",
      "862714\n"
     ]
    }
   ],
   "source": [
    "import sys\n",
    "from collections import deque\n",
    "\n",
    "import pyperclip as pc\n",
    "def pr(s):\n",
    "    print(s)\n",
    "    pc.copy(s)\n",
    "sys.setrecursionlimit(10**6)\n",
    "DIRS = [(-1,0),(0,1),(1,0),(0,-1)] # up right down left\n",
    "infile = sys.argv[1] if len(sys.argv)>=2 else '12.in'\n",
    "p1 = 0\n",
    "p2 = 0\n",
    "D = data.strip()\n",
    "\n",
    "G = D.split('\\n')\n",
    "R = len(G)\n",
    "C = len(G[0])\n",
    "\n",
    "SEEN = set()\n",
    "for r in range(R):\n",
    "    for c in range(C):\n",
    "        if (r,c) in SEEN:\n",
    "            continue\n",
    "        Q = deque([(r,c)])\n",
    "        area = 0\n",
    "        perim = 0\n",
    "        PERIM = dict()\n",
    "        while Q:\n",
    "            r2,c2 = Q.popleft()\n",
    "            if (r2,c2) in SEEN:\n",
    "                continue\n",
    "            SEEN.add((r2,c2))\n",
    "            area += 1\n",
    "            for dr,dc in DIRS:\n",
    "                rr = r2+dr\n",
    "                cc = c2+dc\n",
    "                if 0<=rr<R and 0<=cc<C and G[rr][cc]==G[r2][c2]:\n",
    "                    Q.append((rr,cc))\n",
    "                else:\n",
    "                    perim += 1\n",
    "                    if (dr,dc) not in PERIM:\n",
    "                        PERIM[(dr,dc)] = set()\n",
    "                    # side = same direction, adjacent\n",
    "                    PERIM[(dr,dc)].add((r2,c2))\n",
    "\n",
    "        sides = 0\n",
    "        for k,vs in PERIM.items():\n",
    "            SEEN_PERIM = set()\n",
    "            old_sides = sides\n",
    "            for (pr,pc) in vs:\n",
    "                if (pr,pc) not in SEEN_PERIM:\n",
    "                    sides += 1\n",
    "                    Q = deque([(pr,pc)])\n",
    "                    while Q:\n",
    "                        r2,c2 = Q.popleft()\n",
    "                        if (r2,c2) in SEEN_PERIM:\n",
    "                            continue\n",
    "                        SEEN_PERIM.add((r2,c2))\n",
    "                        for dr,dc in DIRS:\n",
    "                            rr,cc = r2+dr,c2+dc\n",
    "                            if (rr,cc) in vs:\n",
    "                                Q.append((rr,cc))\n",
    "\n",
    "        p1 += area*perim\n",
    "        p2 += area*sides\n",
    "\n",
    "\n",
    "print(p1)\n",
    "print(p2)"
   ]
  }
 ],
 "metadata": {
  "kernelspec": {
   "display_name": ".venv",
   "language": "python",
   "name": "python3"
  },
  "language_info": {
   "codemirror_mode": {
    "name": "ipython",
    "version": 3
   },
   "file_extension": ".py",
   "mimetype": "text/x-python",
   "name": "python",
   "nbconvert_exporter": "python",
   "pygments_lexer": "ipython3",
   "version": "3.11.9"
  }
 },
 "nbformat": 4,
 "nbformat_minor": 2
}
