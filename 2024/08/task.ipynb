{
 "cells": [
  {
   "cell_type": "code",
   "execution_count": 18,
   "metadata": {},
   "outputs": [
    {
     "name": "stdout",
     "output_type": "stream",
     "text": [
      "<_io.TextIOWrapper name='../secret.key' mode='r' encoding='UTF-8'>\n",
      "Resonant Collinearity\n",
      "['.AU..Z.....8.......................t..C.6.........', '..................................................', '.....K.U....................v.....................', '...Z..A.............................v8.....t......', 'p..................a8...........b...t.............', '..pU.....A..4.....................................', '..........................E.......................', '...........K..V..............v8.....Cb............', '....V................b...p........................', '....7.............................................', '....4.....A..........V......K..E.....6............', '.4.........................Vb...........0..C......', '..................................k........N......', 'K....7...........9...........6.....kE.............', '......7......1...................k.......C........', '...p....................9....0.....N6.............', '..........Z........e..1...........................', '.............................E................N...', '...4...............................v0..........z..', '........U.....Z......1................z..a........', '.....5.......7......................N.............', '....................n.............................', '.......................0.9...c..........z.d.T.....', '...................n.W......a...t......D....d.....', '..........I.....e......................o9.........', '....5..2................e...........D.............', '...........................n......D...............', '......25I...1..................c......W.......o...', '................n..............D..................', '...........I........i..e..........................', '......5......2.....P..............a...............', '...........................z..................T...', '..........j.....................Wd...........O..o.', '................................................c.', '.................I................B...............', '...........u.............................T.d......', '.............................................J....', '.....3.i....u......................o..............', '3...i.............................................', '..................................................', '...........j...............W....O............w....', '...P........................J.....................', '.....u............................................', '.............................w....................', '......u.................2...w...J.................', '.....j.....B3......................O..............', 'P....B..............................c.............', '................B.............w...................', '.....i.............3..............................', '..P.j....................J..........O.............']\n"
     ]
    }
   ],
   "source": [
    "from aocd import get_data, submit\n",
    "from aocd.models import Puzzle\n",
    "import os\n",
    "from datetime import datetime\n",
    "with open('../secret.key', 'r') as f:\n",
    "    print(f)\n",
    "    os.environ['AOC_SESSION'] = f.read().strip()\n",
    "\n",
    "def parse_data(day):\n",
    "    data = get_data(day=day, year=2024).split('\\n')\n",
    "\n",
    "    return data\n",
    "day = datetime.now().day\n",
    "data = parse_data(day)\n",
    "puzzle = Puzzle(year=2024, day=day)\n",
    "\n",
    "puzzle.view()\n",
    "print(puzzle.title)\n",
    "print(data)"
   ]
  },
  {
   "cell_type": "code",
   "execution_count": 26,
   "metadata": {},
   "outputs": [
    {
     "name": "stdout",
     "output_type": "stream",
     "text": [
      "289\n"
     ]
    }
   ],
   "source": [
    "grid = data.copy()\n",
    "antinodes = set()\n",
    "N = len(grid)\n",
    "M = len(grid[0])\n",
    "\n",
    "nodes = {}\n",
    "\n",
    "for i in range(N):\n",
    "    for j in range(M):\n",
    "        if grid[i][j] != \".\":\n",
    "            if grid[i][j] in nodes:\n",
    "                nodes[grid[i][j]].append((i,j))\n",
    "            else:\n",
    "                nodes[grid[i][j]] = [(i,j)]\n",
    "\n",
    "def antinode(pr1, pr2):\n",
    "    x1, y1 = pr1\n",
    "    x2, y2 = pr2\n",
    "    newx = x2 + (x2 - x1)\n",
    "    newy = y2 + (y2 - y1)\n",
    "    if newx >= 0 and newx < N and newy >= 0 and newy < M:\n",
    "        antinodes.add((newx,newy))\n",
    "                \n",
    "for k in nodes:\n",
    "    node_list = nodes[k]\n",
    "    L = len(node_list)\n",
    "    for i in range(L):\n",
    "        for j in range(i):\n",
    "            node1 = node_list[i]\n",
    "            node2 = node_list[j]\n",
    "            antinode(node1, node2)\n",
    "            antinode(node2, node1)\n",
    "\n",
    "print(len(antinodes))"
   ]
  },
  {
   "cell_type": "code",
   "execution_count": 27,
   "metadata": {},
   "outputs": [
    {
     "name": "stdout",
     "output_type": "stream",
     "text": [
      "1030\n"
     ]
    }
   ],
   "source": [
    "grid = data.copy()\n",
    "antinodes = set()\n",
    "\n",
    "\n",
    "\n",
    "def antinode2(pr1, pr2):\n",
    "    x1, y1 = pr1\n",
    "    x2, y2 = pr2\n",
    "    newx = x2 + (x2 - x1)\n",
    "    newy = y2 + (y2 - y1)\n",
    "    antinodes.add((x2,y2))\n",
    "    while newx >= 0 and newx < N and newy >= 0 and newy < M:\n",
    "        antinodes.add((newx,newy))\n",
    "        newx += (x2 - x1)\n",
    "        newy += (y2 - y1)\n",
    "\n",
    "for k in nodes:\n",
    "    node_list = nodes[k]\n",
    "    L = len(node_list)\n",
    "    for i in range(L):\n",
    "        for j in range(i):\n",
    "            node1 = node_list[i]\n",
    "            node2 = node_list[j]\n",
    "            antinode2(node1, node2)\n",
    "            antinode2(node2, node1)\n",
    "\n",
    "print(len(antinodes))"
   ]
  }
 ],
 "metadata": {
  "kernelspec": {
   "display_name": "Python 3",
   "language": "python",
   "name": "python3"
  },
  "language_info": {
   "codemirror_mode": {
    "name": "ipython",
    "version": 3
   },
   "file_extension": ".py",
   "mimetype": "text/x-python",
   "name": "python",
   "nbconvert_exporter": "python",
   "pygments_lexer": "ipython3",
   "version": "3.10.12"
  }
 },
 "nbformat": 4,
 "nbformat_minor": 2
}
