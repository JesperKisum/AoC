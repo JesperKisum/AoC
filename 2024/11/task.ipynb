{
 "cells": [
  {
   "cell_type": "code",
   "execution_count": 55,
   "metadata": {},
   "outputs": [
    {
     "name": "stdout",
     "output_type": "stream",
     "text": [
      "<_io.TextIOWrapper name='../secret.key' mode='r' encoding='UTF-8'>\n",
      "Plutonian Pebbles\n",
      "[2701, 64945, 0, 9959979, 93, 781524, 620, 1]\n"
     ]
    }
   ],
   "source": [
    "from aocd import get_data, submit\n",
    "from aocd.models import Puzzle\n",
    "import os\n",
    "from datetime import datetime\n",
    "with open('../secret.key', 'r') as f:\n",
    "    print(f)\n",
    "    os.environ['AOC_SESSION'] = f.read().strip()\n",
    "\n",
    "def parse_data(day):\n",
    "    data = get_data(day=day, year=2024).split(\" \")\n",
    "    data = [int(x) for x in data]\n",
    "    return data\n",
    "day = datetime.now().day\n",
    "data = parse_data(day)\n",
    "puzzle = Puzzle(year=2024, day=day)\n",
    "\n",
    "#puzzle.view()\n",
    "print(puzzle.title)\n",
    "print(data)"
   ]
  },
  {
   "cell_type": "code",
   "execution_count": 57,
   "metadata": {},
   "outputs": [],
   "source": [
    "from functools import cache\n",
    "from math import floor, log10\n",
    "\n",
    "def flatten(lst):\n",
    "    return [item for sublist in lst for item in (sublist if isinstance(sublist, list) else [sublist])]\n",
    "\n",
    "def rule_1(num):\n",
    "    if num == 0:\n",
    "        return 1\n",
    "    else:\n",
    "        return num\n",
    "\n",
    "def rule_2(num):\n",
    "    l = floor(log10(num))+1\n",
    "    if l % 2 == 0:\n",
    "        first = num // 10**(l//2)\n",
    "        second = num %  10**(l//2)\n",
    "        \n",
    "        return [first , second]\n",
    "    else:\n",
    "        return num\n",
    "    \n",
    "def rule_3(num):\n",
    "    return int(num)*2024\n",
    "\n",
    "\n",
    "def apply_rule(num):\n",
    "    \n",
    "    if num == rule_1(num):\n",
    "        if num == rule_2(num):\n",
    "            return rule_3(num)\n",
    "        else: \n",
    "            return rule_2(num)\n",
    "    else:\n",
    "        return rule_1(num)\n",
    "    \n",
    "\n",
    "def apply_rules(data):\n",
    "    return list(flatten([apply_rule(x) for x in data]))\n",
    "\n",
    "\n",
    "def blinks(data, n):\n",
    "    for i in range(n):\n",
    "        data = apply_rules(data)\n",
    "    return len(data)\n",
    "\n",
    "\n",
    "puzzle.answer_a = blinks(data, 25)\n",
    "#puzzle.answwer_b = blinks(data, 75)"
   ]
  },
  {
   "cell_type": "code",
   "execution_count": 58,
   "metadata": {},
   "outputs": [
    {
     "name": "stdout",
     "output_type": "stream",
     "text": [
      "235571309320764\n"
     ]
    }
   ],
   "source": [
    "from math import floor, log10\n",
    "from functools import cache\n",
    "\n",
    "@cache\n",
    "def blink_one(x, blinks=75):\n",
    "    if blinks == 0: return 1\n",
    "    if x == 0: return blink_one(1, blinks-1)\n",
    "\n",
    "    length = floor(log10(x))+1\n",
    "    if length % 2: return blink_one(x*2024, blinks-1)\n",
    "\n",
    "    return (blink_one(x // 10**(length//2), blinks-1)+\n",
    "            blink_one(x %  10**(length//2), blinks-1))\n",
    "\n",
    "print(sum(map(blink_one, data)))\n",
    "puzzle.answer_b = sum(map(blink_one, data))\n"
   ]
  },
  {
   "cell_type": "code",
   "execution_count": 63,
   "metadata": {},
   "outputs": [
    {
     "data": {
      "text/plain": [
       "3"
      ]
     },
     "execution_count": 63,
     "metadata": {},
     "output_type": "execute_result"
    }
   ],
   "source": [
    "floor(log10(101))+1"
   ]
  }
 ],
 "metadata": {
  "kernelspec": {
   "display_name": ".venv",
   "language": "python",
   "name": "python3"
  },
  "language_info": {
   "codemirror_mode": {
    "name": "ipython",
    "version": 3
   },
   "file_extension": ".py",
   "mimetype": "text/x-python",
   "name": "python",
   "nbconvert_exporter": "python",
   "pygments_lexer": "ipython3",
   "version": "3.11.9"
  }
 },
 "nbformat": 4,
 "nbformat_minor": 2
}
