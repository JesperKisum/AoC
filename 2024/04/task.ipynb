{
 "cells": [
  {
   "cell_type": "code",
   "execution_count": 9,
   "metadata": {},
   "outputs": [
    {
     "name": "stdout",
     "output_type": "stream",
     "text": [
      "<_io.TextIOWrapper name='../secret.key' mode='r' encoding='UTF-8'>\n"
     ]
    }
   ],
   "source": [
    "from aocd import get_data, submit\n",
    "from aocd.models import Puzzle\n",
    "import os\n",
    "from datetime import datetime\n",
    "with open('../secret.key', 'r') as f:\n",
    "    print(f)\n",
    "    os.environ['AOC_SESSION'] = f.read().strip()\n",
    "\n",
    "def parse_data(day):\n",
    "    data = get_data(day=day, year=2024).split('\\n')\n",
    "    #data = [x.split('/n') for x in data]\n",
    "    return data\n",
    "day = datetime.now().day\n",
    "data = parse_data(day)\n",
    "puzzle = Puzzle(year=2024, day=day)\n",
    "\n",
    "puzzle.view()"
   ]
  },
  {
   "cell_type": "code",
   "execution_count": 7,
   "metadata": {},
   "outputs": [
    {
     "name": "stdout",
     "output_type": "stream",
     "text": [
      "Ceres Search\n"
     ]
    }
   ],
   "source": [
    "print(puzzle.title)\n"
   ]
  },
  {
   "cell_type": "code",
   "execution_count": 78,
   "metadata": {},
   "outputs": [],
   "source": [
    "test = [\n",
    "\"MMMSXXMASM\",\n",
    "\"MSAMXMSMSA\",\n",
    "\"AMXSXMAAMM\",\n",
    "\"MSAMASMSMX\",\n",
    "\"XMASAMXAMM\",\n",
    "\"XXAMMXXAMA\",\n",
    "\"SMSMSASXSS\",\n",
    "\"SAXAMASAAA\",\n",
    "\"MAMMMXMMMM\",\n",
    "\"MXMXAXMASX\"]\n",
    "\n"
   ]
  },
  {
   "cell_type": "code",
   "execution_count": null,
   "metadata": {},
   "outputs": [],
   "source": [
    "\n",
    "def word_search(data, word):\n",
    "    words = []\n",
    "    for i in range(len(data)):\n",
    "        for j in range(len(data[i])):\n",
    "            if data[i][j] == word[0]:\n",
    "                \n",
    "                # search for next letter in all directions\n",
    "                for x in range(-1, 2):\n",
    "                    for y in range(-1, 2):\n",
    "                        if x == 0 and y == 0:\n",
    "                            continue\n",
    "                        for k in range(1, len(word)):\n",
    "                            #print(i + k*x, j + k*y) if i == 9 and j == 1 else None\n",
    "                            try:\n",
    "                                if data[i + k*x][j + k*y] != word[k]:\n",
    "                                    break\n",
    "                                elif i + k*x < 0 or j + k*y < 0:\n",
    "                                    break\n",
    "\n",
    "                            except IndexError:\n",
    "                                break\n",
    "                        else:\n",
    "                            words.append((i, j))\n",
    "    return words\n",
    "                \n",
    "\n",
    "#print(word_search(data, \"XMAS\"))\n",
    "res = len(word_search(data, \"XMAS\"))\n",
    "#puzzle.answer_a = res"
   ]
  },
  {
   "cell_type": "code",
   "execution_count": 79,
   "metadata": {},
   "outputs": [
    {
     "name": "stdout",
     "output_type": "stream",
     "text": [
      "{(1, 2), (7, 1), (3, 4), (7, 5), (7, 7), (7, 3), (3, 2)}\n"
     ]
    }
   ],
   "source": [
    "def mas_search(data):\n",
    "    words = set()\n",
    "    for i in range(1,len(data)-1):\n",
    "        for j in range(1,len(data[i])-1):\n",
    "            if data[i][j] == \"A\":\n",
    "                # search for an opposite m and s in all directions\n",
    "                for x in range(-1, 2):\n",
    "                    for y in range(-1, 2):\n",
    "                        if x == 0 and y == 0:\n",
    "                            continue\n",
    "                        try:\n",
    "                            \n",
    "                            if test[i+1][j] == \"M\" and test[i-1][j] == \"S\":\n",
    "                                if test[i][j+1] == \"M\" and test[i][j-1] == \"S\":\n",
    "                                    words.add((i, j))\n",
    "                                elif test[i][j+1] == \"S\" and test[i][j-1] == \"M\":\n",
    "                                    words.add((i, j))\n",
    "                            elif test[i+1][j] == \"S\" and test[i-1][j] == \"M\":\n",
    "                                if test[i][j+1] == \"S\" and test[i][j-1] == \"M\":\n",
    "                                    words.add((i, j))\n",
    "                                elif test[i][j+1] == \"M\" and test[i][j-1] == \"S\":\n",
    "                                    words.add((i, j))\n",
    "                            elif test[i+1][j+1] == \"S\" and test[i-1][j-1] == \"M\":\n",
    "                                if test[i+1][j-1] == \"S\" and test[i-1][j+1] == \"M\":\n",
    "                                    words.add((i, j))\n",
    "                                elif test[i+1][j-1] == \"M\" and test[i-1][j+1] == \"S\":\n",
    "                                    words.add((i, j))\n",
    "                            elif test[i+1][j+1] == \"M\" and test[i-1][j-1] == \"S\":\n",
    "                                if test[i+1][j-1] == \"M\" and test[i-1][j+1] == \"S\":\n",
    "                                    words.add((i, j))\n",
    "                                elif test[i+1][j-1] == \"S\" and test[i-1][j+1] == \"M\":\n",
    "                                    words.add((i, j))\n",
    "                        except IndexError:\n",
    "                            break\n",
    "    return words\n",
    "\n",
    "print(mas_search(test))\n",
    "\n",
    "                                "
   ]
  },
  {
   "cell_type": "code",
   "execution_count": null,
   "metadata": {},
   "outputs": [
    {
     "name": "stdout",
     "output_type": "stream",
     "text": [
      "b (4, 2) (0, -1) S M (4, 3) (4, 1) (4, 1) (4, 3) M S\n",
      "xMASxxxxxx\n"
     ]
    }
   ],
   "source": [
    "test = [\n",
    "\"xxxxxxxxxx\",\n",
    "\"xxxxxxxxxx\",\n",
    "\"xxxxxxxxxx\",\n",
    "\"xSAMxxxxxx\",\n",
    "\"xMASxxxxxx\",\n",
    "\"xXAMxxxxxx\",\n",
    "\"xxxxxxxxxx\",\n",
    "\"xxxxxxxxxx\",\n",
    "\"xxxxxxxxxx\",\n",
    "\"xxxxxxxxxx\"]\n",
    "\n",
    "i = 4\n",
    "j = 2\n",
    "for x in range(-1, 2):\n",
    "    for y in range(-1, 2):\n",
    "        if x == 0 and y == 0:\n",
    "            continue\n",
    "        elif test[i + x][j + y] == \"M\" and test[i - x][j - y] == \"S\":\n",
    "            if test[i + x][j - y] == \"M\" and test[i - x][j + y] == \"S\":\n",
    "                print(\"a\",i, j, x, y, test[i + x][j + y], test[i - x][j - y])\n",
    "            elif test[i + x][j - y] == \"S\" and test[i - x][j + y] == \"M\":\n",
    "                print(\"b\",(i, j), (x, y), test[i + x][j - y], test[i - x][j + y], (i+x, j-y), (i-x, j+y), (i+x, j+y), (i-x, j-y), test[i + x][j + y], test[i - x][j - y])\n",
    "                print(test[i])\n",
    "words = set()\n",
    "if test[i+1][j] == \"M\" and test[i-1][j] == \"S\":\n",
    "    if test[i][j+1] == \"M\" and test[i][j-1] == \"S\":\n",
    "        words.add((i, j))\n",
    "    elif test[i][j+1] == \"S\" and test[i][j-1] == \"M\":\n",
    "        words.add((i, j))\n",
    "elif test[i+1][j] == \"S\" and test[i-1][j] == \"M\":\n",
    "    if test[i][j+1] == \"S\" and test[i][j-1] == \"M\":\n",
    "        words.add((i, j))\n",
    "    elif test[i][j+1] == \"M\" and test[i][j-1] == \"S\":\n",
    "        words.add((i, j))\n",
    "elif test[i+1][j+1] == \"S\" and test[i-1][j-1] == \"M\":\n",
    "    if test[i+1][j-1] == \"S\" and test[i-1][j+1] == \"M\":\n",
    "        words.add((i, j))\n",
    "    elif test[i+1][j-1] == \"M\" and test[i-1][j+1] == \"S\":\n",
    "        words.add((i, j))\n",
    "elif test[i+1][j+1] == \"M\" and test[i-1][j-1] == \"S\":\n",
    "    if test[i+1][j-1] == \"M\" and test[i-1][j+1] == \"S\":\n",
    "        words.add((i, j))\n",
    "    elif test[i+1][j-1] == \"S\" and test[i-1][j+1] == \"M\":\n",
    "        words.add((i, j))\n",
    "\n",
    "\n",
    "        \n",
    "    \n"
   ]
  },
  {
   "cell_type": "code",
   "execution_count": 80,
   "metadata": {},
   "outputs": [
    {
     "name": "stdout",
     "output_type": "stream",
     "text": [
      "part 1: 2644\n",
      "part 2: 1952\n"
     ]
    }
   ],
   "source": [
    "from collections import defaultdict\n",
    "\n",
    "m = defaultdict(lambda:'.')\n",
    "\n",
    "for i, line in enumerate(data):\n",
    "    for j, c in enumerate(line):\n",
    "        m[i+1j*j] = c\n",
    "\n",
    "k = list(m.keys())\n",
    "ans = 0\n",
    "for d in (1, -1, 1j, -1j, 1+1j, 1-1j, -1-1j, -1+1j):\n",
    "    for s in k:\n",
    "        ans += m[s] == 'X' and m[s+d] == 'M' and m[s+2*d] == 'A' and m[s+3*d] == 'S'\n",
    "\n",
    "print(f\"part 1: {ans}\")\n",
    "\n",
    "ans = 0\n",
    "for s in k:\n",
    "    ans +=  m[s] == 'A' and \\\n",
    "            ((m[s-1-1j] == 'M' and m[s+1+1j] == 'S') or (m[s-1-1j] == 'S' and m[s+1+1j] == 'M')) and \\\n",
    "            ((m[s-1+1j] == 'M' and m[s+1-1j] == 'S') or (m[s-1+1j] == 'S' and m[s+1-1j] == 'M'))\n",
    "\n",
    "\n",
    "print(f\"part 2: {ans}\")"
   ]
  }
 ],
 "metadata": {
  "kernelspec": {
   "display_name": "Python 3",
   "language": "python",
   "name": "python3"
  },
  "language_info": {
   "codemirror_mode": {
    "name": "ipython",
    "version": 3
   },
   "file_extension": ".py",
   "mimetype": "text/x-python",
   "name": "python",
   "nbconvert_exporter": "python",
   "pygments_lexer": "ipython3",
   "version": "3.10.12"
  }
 },
 "nbformat": 4,
 "nbformat_minor": 2
}
