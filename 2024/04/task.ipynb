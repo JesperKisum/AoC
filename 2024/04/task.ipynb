{
 "cells": [
  {
   "cell_type": "code",
   "execution_count": 2,
   "metadata": {},
   "outputs": [
    {
     "name": "stdout",
     "output_type": "stream",
     "text": [
      "<_io.TextIOWrapper name='../secret.key' mode='r' encoding='UTF-8'>\n"
     ]
    }
   ],
   "source": [
    "from aocd import get_data, submit\n",
    "from aocd.models import Puzzle\n",
    "import os\n",
    "from datetime import datetime\n",
    "with open('../secret.key', 'r') as f:\n",
    "    print(f)\n",
    "    os.environ['AOC_SESSION'] = f.read().strip()\n",
    "\n",
    "def parse_data(day):\n",
    "    data = get_data(day=day, year=2024).split('\\n')\n",
    "    #data = [x.split('/n') for x in data]\n",
    "    return data\n",
    "day = datetime.now().day\n",
    "data = parse_data(day)\n",
    "puzzle = Puzzle(year=2024, day=day)\n",
    "\n",
    "puzzle.view()"
   ]
  },
  {
   "cell_type": "code",
   "execution_count": 7,
   "metadata": {},
   "outputs": [
    {
     "name": "stdout",
     "output_type": "stream",
     "text": [
      "Ceres Search\n"
     ]
    }
   ],
   "source": [
    "print(puzzle.title)\n"
   ]
  },
  {
   "cell_type": "code",
   "execution_count": 78,
   "metadata": {},
   "outputs": [],
   "source": [
    "test = [\n",
    "\"MMMSXXMASM\",\n",
    "\"MSAMXMSMSA\",\n",
    "\"AMXSXMAAMM\",\n",
    "\"MSAMASMSMX\",\n",
    "\"XMASAMXAMM\",\n",
    "\"XXAMMXXAMA\",\n",
    "\"SMSMSASXSS\",\n",
    "\"SAXAMASAAA\",\n",
    "\"MAMMMXMMMM\",\n",
    "\"MXMXAXMASX\"]\n",
    "\n"
   ]
  },
  {
   "cell_type": "code",
   "execution_count": 16,
   "metadata": {},
   "outputs": [
    {
     "name": "stdout",
     "output_type": "stream",
     "text": [
      "part 1: 2644\n"
     ]
    }
   ],
   "source": [
    "from collections import defaultdict\n",
    "\n",
    "data_map = defaultdict(lambda:'.')\n",
    "\n",
    "for idx, line in enumerate(data):\n",
    "    for jdx, letter in enumerate(line):\n",
    "        data_map[idx+1j*jdx] = letter\n",
    "\n",
    "\n",
    "\n",
    "keys = list(data_map.keys())\n",
    "res = 0\n",
    "for direction in (1, -1, 1j, -1j, 1+1j, 1-1j, -1-1j, -1+1j):\n",
    "    for key in keys:\n",
    "        res += data_map[key] == 'X' and data_map[key+direction] == 'M' and data_map[key+2*direction] == 'A' and data_map[key+3*direction] == 'S'\n",
    "\n",
    "print(f\"part 1: {res}\")"
   ]
  },
  {
   "cell_type": "code",
   "execution_count": 21,
   "metadata": {},
   "outputs": [
    {
     "name": "stdout",
     "output_type": "stream",
     "text": [
      "part 2: 1952\n"
     ]
    }
   ],
   "source": [
    "res = 0\n",
    "for s in k:\n",
    "    res +=  (\n",
    "        data_map[s] == 'A'\n",
    "        and ((data_map[s-1-1j] == 'M' and data_map[s+1+1j] == 'S') or (data_map[s-1-1j] == 'S' and data_map[s+1+1j] == 'M')) \n",
    "        and ((data_map[s-1+1j] == 'M' and data_map[s+1-1j] == 'S') or (data_map[s-1+1j] == 'S' and data_map[s+1-1j] == 'M'))\n",
    "        )\n",
    "\n",
    "\n",
    "print(f\"part 2: {res}\")"
   ]
  },
  {
   "cell_type": "code",
   "execution_count": null,
   "metadata": {},
   "outputs": [],
   "source": []
  }
 ],
 "metadata": {
  "kernelspec": {
   "display_name": "Python 3",
   "language": "python",
   "name": "python3"
  },
  "language_info": {
   "codemirror_mode": {
    "name": "ipython",
    "version": 3
   },
   "file_extension": ".py",
   "mimetype": "text/x-python",
   "name": "python",
   "nbconvert_exporter": "python",
   "pygments_lexer": "ipython3",
   "version": "3.11.9"
  }
 },
 "nbformat": 4,
 "nbformat_minor": 2
}
