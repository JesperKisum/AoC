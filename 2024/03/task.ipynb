{
 "cells": [
  {
   "cell_type": "code",
   "execution_count": 4,
   "metadata": {},
   "outputs": [
    {
     "name": "stdout",
     "output_type": "stream",
     "text": [
      "<_io.TextIOWrapper name='../secret.key' mode='r' encoding='UTF-8'>\n"
     ]
    }
   ],
   "source": [
    "from aocd import get_data, submit\n",
    "from aocd.models import Puzzle\n",
    "import os\n",
    "from datetime import datetime\n",
    "with open('../secret.key', 'r') as f:\n",
    "    print(f)\n",
    "    os.environ['AOC_SESSION'] = f.read().strip()\n",
    "\n",
    "def parse_data(day):\n",
    "    data = get_data(day=day, year=2024)#.split('\\n')\n",
    "    #data = [x.split(' ') for x in data]\n",
    "    return data\n",
    "day = datetime.now().day\n",
    "data = parse_data(day)\n",
    "puzzle = Puzzle(year=2024, day=day)\n",
    "\n",
    "puzzle.view()"
   ]
  },
  {
   "cell_type": "code",
   "execution_count": null,
   "metadata": {},
   "outputs": [
    {
     "name": "stdout",
     "output_type": "stream",
     "text": [
      "Mull It Over\n"
     ]
    }
   ],
   "source": [
    "print(puzzle.title)"
   ]
  },
  {
   "cell_type": "code",
   "execution_count": 66,
   "metadata": {},
   "outputs": [
    {
     "name": "stdout",
     "output_type": "stream",
     "text": [
      "179571322\n"
     ]
    }
   ],
   "source": [
    "import re\n",
    "pattern = r\"mul\\((\\d{1,3}),(\\d{1,3})\\)\"\n",
    "matches = re.findall(pattern, data)\n",
    "numbers = [(int(x), int(y)) for x, y in matches]\n",
    "result = sum(x * y for x, y in numbers)\n",
    "print(result)\n",
    "puzzle.answer_a = result"
   ]
  },
  {
   "cell_type": "code",
   "execution_count": 67,
   "metadata": {},
   "outputs": [
    {
     "name": "stdout",
     "output_type": "stream",
     "text": [
      "103811193\n"
     ]
    }
   ],
   "source": [
    "subset = data.split(\"don't()\")\n",
    "subset = [i.split(\"do()\") for i in subset]\n",
    "matches_first = re.findall(pattern, subset[0][0])\n",
    "matches_rest = [re.findall(pattern, \"\".join(subset[i][1:]) if len(subset[i]) > 1  else \"\") for i in range(1, len(subset))]\n",
    "matches_rest = [i for i in matches_rest if len(i) > 0]\n",
    "matches_rest = [item for sublist in matches_rest for item in sublist]\n",
    "\n",
    "res1 =  sum(int(x) * int(y) for x, y in matches_first)\n",
    "res2 = sum(int(x) * int(y) for x, y in matches_rest)\n",
    "\n",
    "print(res1 + res2)\n",
    "puzzle.answer_b = res1 + res2"
   ]
  },
  {
   "cell_type": "markdown",
   "metadata": {},
   "source": []
  }
 ],
 "metadata": {
  "kernelspec": {
   "display_name": "Python 3",
   "language": "python",
   "name": "python3"
  },
  "language_info": {
   "codemirror_mode": {
    "name": "ipython",
    "version": 3
   },
   "file_extension": ".py",
   "mimetype": "text/x-python",
   "name": "python",
   "nbconvert_exporter": "python",
   "pygments_lexer": "ipython3",
   "version": "3.10.12"
  }
 },
 "nbformat": 4,
 "nbformat_minor": 2
}
