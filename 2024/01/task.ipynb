{
 "cells": [
  {
   "cell_type": "code",
   "execution_count": 11,
   "metadata": {},
   "outputs": [
    {
     "name": "stdout",
     "output_type": "stream",
     "text": [
      "<_io.TextIOWrapper name='../secret.key' mode='r' encoding='UTF-8'>\n",
      "Historian Hysteria\n"
     ]
    }
   ],
   "source": [
    "from aocd import get_data, submit\n",
    "from aocd.models import Puzzle\n",
    "import os\n",
    "from datetime import datetime\n",
    "with open('../secret.key', 'r') as f:\n",
    "    print(f)\n",
    "    os.environ['AOC_SESSION'] = f.read().strip()\n",
    "\n",
    "def parse_data(day):\n",
    "    data = get_data(day=day, year=2024).split('\\n')\n",
    "    data = [x.split('   ') for x in data]\n",
    "    return data\n",
    "day = datetime.now().day\n",
    "data = parse_data(day)\n",
    "puzzle = Puzzle(year=2024, day=day)\n",
    "\n",
    "puzzle.view()\n",
    "print(puzzle.title)"
   ]
  },
  {
   "cell_type": "code",
   "execution_count": null,
   "metadata": {},
   "outputs": [
    {
     "name": "stdout",
     "output_type": "stream",
     "text": [
      "3246517\n"
     ]
    }
   ],
   "source": [
    "\n",
    "l = []\n",
    "r = []\n",
    "for i in data:\n",
    "    l.append(int(i[0]))\n",
    "    r.append(int(i[1]))\n",
    "\n",
    "l.sort()\n",
    "r.sort()\n",
    "\n",
    "res = 0\n",
    "for i in range(len(l)):\n",
    "    res += abs(r[i] - l[i])\n",
    "\n",
    "\n",
    "\n",
    "print(res)\n",
    "\n",
    "puzzle.answer_a = res\n",
    "\n"
   ]
  },
  {
   "cell_type": "code",
   "execution_count": 10,
   "metadata": {},
   "outputs": [
    {
     "name": "stdout",
     "output_type": "stream",
     "text": [
      "29379307\n",
      "\u001b[32mThat's the right answer!  You are one gold star closer to finding the Chief Historian.You have completed Day 1! You can [Shareon\n",
      "  Bluesky\n",
      "Twitter\n",
      "Mastodon] this victory or [Return to Your Advent Calendar].\u001b[0m\n"
     ]
    }
   ],
   "source": [
    "res_b = []\n",
    "for i in l:\n",
    "    count = r.count(i) \n",
    "    res_b.append(count*i)\n",
    "\n",
    "print(sum(res_b))\n",
    "\n",
    "puzzle.answer_b = sum(res_b)"
   ]
  }
 ],
 "metadata": {
  "kernelspec": {
   "display_name": "Python 3",
   "language": "python",
   "name": "python3"
  },
  "language_info": {
   "codemirror_mode": {
    "name": "ipython",
    "version": 3
   },
   "file_extension": ".py",
   "mimetype": "text/x-python",
   "name": "python",
   "nbconvert_exporter": "python",
   "pygments_lexer": "ipython3",
   "version": "3.10.12"
  }
 },
 "nbformat": 4,
 "nbformat_minor": 2
}
