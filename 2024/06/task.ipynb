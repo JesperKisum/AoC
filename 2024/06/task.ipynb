{
 "cells": [
  {
   "cell_type": "code",
   "execution_count": null,
   "metadata": {},
   "outputs": [
    {
     "name": "stdout",
     "output_type": "stream",
     "text": [
      "<_io.TextIOWrapper name='../secret.key' mode='r' encoding='UTF-8'>\n",
      "Guard Gallivant\n"
     ]
    }
   ],
   "source": [
    "from aocd import get_data, submit\n",
    "from aocd.models import Puzzle\n",
    "import os\n",
    "from datetime import datetime\n",
    "with open('../secret.key', 'r') as f:\n",
    "    print(f)\n",
    "    os.environ['AOC_SESSION'] = f.read().strip()\n",
    "\n",
    "def parse_data(day):\n",
    "    data = get_data(day=day, year=2024).split('\\n')\n",
    "   \n",
    "    return data\n",
    "day = datetime.now().day\n",
    "data = parse_data(day)\n",
    "puzzle = Puzzle(year=2024, day=day)\n",
    "\n",
    "puzzle.view()\n",
    "print(puzzle.title)\n",
    "test = [\"....#.....\",\".........#\",\"..........\",\"..#.......\",\".......#..\",\"..........\",\".#..^.....\",\"........#.\",\"#.........\",\"......#...\"]"
   ]
  },
  {
   "cell_type": "code",
   "execution_count": 66,
   "metadata": {},
   "outputs": [],
   "source": [
    "grid = {i+j*1j: column for i,row in enumerate(data)\n",
    "               for j,column in enumerate(row.strip())}\n",
    "\n",
    "start = min(point for point in grid if grid[point] == '^')\n",
    "\n",
    "def walk(grid, part=1):\n",
    "    pos, dir = start, -1\n",
    "    seen = set()\n",
    "    while pos in grid and (pos,dir) not in seen:\n",
    "        seen |= {(pos,dir)}\n",
    "        if grid.get(pos+dir) == \"#\":\n",
    "            dir *= -1j\n",
    "        else: pos += dir\n",
    "    if part: \n",
    "        return (pos,dir) in seen\n",
    "    else: \n",
    "        return {pos for pos,_ in seen}\n",
    "\n",
    "path = walk(grid, 0)\n",
    "puzzle.answer_a=len(path)\n",
    "puzzle.answer_b=sum(walk(grid | {o:'#'}) for o in path)"
   ]
  }
 ],
 "metadata": {
  "kernelspec": {
   "display_name": "Python 3",
   "language": "python",
   "name": "python3"
  },
  "language_info": {
   "codemirror_mode": {
    "name": "ipython",
    "version": 3
   },
   "file_extension": ".py",
   "mimetype": "text/x-python",
   "name": "python",
   "nbconvert_exporter": "python",
   "pygments_lexer": "ipython3",
   "version": "3.10.12"
  }
 },
 "nbformat": 4,
 "nbformat_minor": 2
}
