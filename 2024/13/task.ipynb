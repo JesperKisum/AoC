{
 "cells": [
  {
   "cell_type": "code",
   "execution_count": 1,
   "metadata": {},
   "outputs": [
    {
     "name": "stdout",
     "output_type": "stream",
     "text": [
      "<_io.TextIOWrapper name='../secret.key' mode='r' encoding='UTF-8'>\n",
      "Print Queue\n"
     ]
    }
   ],
   "source": [
    "from aocd import get_data, submit\n",
    "from aocd.models import Puzzle\n",
    "import os\n",
    "from datetime import datetime\n",
    "with open('../secret.key', 'r') as f:\n",
    "    print(f)\n",
    "    os.environ['AOC_SESSION'] = f.read().strip()\n",
    "\n",
    "def parse_data(day):\n",
    "    data = get_data(day=day, year=2024).split('\\n')\n",
    "    data = [x.split(' ') for x in data]\n",
    "    return data\n",
    "day = datetime.now().day\n",
    "data = parse_data(day)\n",
    "puzzle = Puzzle(year=2024, day=day)\n",
    "\n",
    "puzzle.view()\n",
    "print(puzzle.title)"
   ]
  }
 ],
 "metadata": {
  "kernelspec": {
   "display_name": ".venv",
   "language": "python",
   "name": "python3"
  },
  "language_info": {
   "codemirror_mode": {
    "name": "ipython",
    "version": 3
   },
   "file_extension": ".py",
   "mimetype": "text/x-python",
   "name": "python",
   "nbconvert_exporter": "python",
   "pygments_lexer": "ipython3",
   "version": "3.11.9"
  }
 },
 "nbformat": 4,
 "nbformat_minor": 2
}
