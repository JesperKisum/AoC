{
 "cells": [
  {
   "cell_type": "markdown",
   "id": "3eb942ed-f5a4-4fdf-b3cf-4be1d3346ec8",
   "metadata": {},
   "source": [
    "## 1st december\n"
   ]
  },
  {
   "cell_type": "code",
   "execution_count": 41,
   "id": "4c7b7ef0-bbbe-40cd-8ff7-b859235746a3",
   "metadata": {
    "collapsed": true,
    "jupyter": {
     "outputs_hidden": true
    },
    "tags": []
   },
   "outputs": [
    {
     "data": {
      "text/plain": [
       "\"\\n--- Day 1: Sonar Sweep ---\\nYou're minding your own business on a ship at sea when the overboard alarm goes off! You rush to see if you can help. Apparently, one of the Elves tripped and accidentally sent the sleigh keys flying into the ocean!\\n\\nBefore you know it, you're inside a submarine the Elves keep ready for situations like this. It's covered in Christmas lights (because of course it is), and it even has an experimental antenna that should be able to track the keys if you can boost its signal strength high enough; there's a little meter that indicates the antenna's signal strength by displaying 0-50 stars.\\n\\nYour instincts tell you that in order to save Christmas, you'll need to get all fifty stars by December 25th.\\n\\nCollect stars by solving puzzles. Two puzzles will be made available on each day in the Advent calendar; the second puzzle is unlocked when you complete the first. Each puzzle grants one star. Good luck!\\n\\nAs the submarine drops below the surface of the ocean, it automatically performs a sonar sweep of the nearby sea floor. On a small screen, the sonar sweep report (your puzzle input) appears: each line is a measurement of the sea floor depth as the sweep looks further and further away from the submarine.\\n\\nFor example, suppose you had the following report:\\n\\n199\\n200\\n208\\n210\\n200\\n207\\n240\\n269\\n260\\n263\\nThis report indicates that, scanning outward from the submarine, the sonar sweep found depths of 199, 200, 208, 210, and so on.\\n\\nThe first order of business is to figure out how quickly the depth increases, just so you know what you're dealing with - you never know if the keys will get carried into deeper water by an ocean current or a fish or something.\\n\\nTo do this, count the number of times a depth measurement increases from the previous measurement. (There is no measurement before the first measurement.) In the example above, the changes are as follows:\\n\\n199 (N/A - no previous measurement)\\n200 (increased)\\n208 (increased)\\n210 (increased)\\n200 (decreased)\\n207 (increased)\\n240 (increased)\\n269 (increased)\\n260 (decreased)\\n263 (increased)\\nIn this example, there are 7 measurements that are larger than the previous measurement.\\n\\nHow many measurements are larger than the previous measurement?\\n\""
      ]
     },
     "execution_count": 41,
     "metadata": {},
     "output_type": "execute_result"
    }
   ],
   "source": [
    "\"\"\"\n",
    "--- Day 1: Sonar Sweep ---\n",
    "You're minding your own business on a ship at sea when the overboard alarm goes off! You rush to see if you can help. Apparently, one of the Elves tripped and accidentally sent the sleigh keys flying into the ocean!\n",
    "\n",
    "Before you know it, you're inside a submarine the Elves keep ready for situations like this. It's covered in Christmas lights (because of course it is), and it even has an experimental antenna that should be able to track the keys if you can boost its signal strength high enough; there's a little meter that indicates the antenna's signal strength by displaying 0-50 stars.\n",
    "\n",
    "Your instincts tell you that in order to save Christmas, you'll need to get all fifty stars by December 25th.\n",
    "\n",
    "Collect stars by solving puzzles. Two puzzles will be made available on each day in the Advent calendar; the second puzzle is unlocked when you complete the first. Each puzzle grants one star. Good luck!\n",
    "\n",
    "As the submarine drops below the surface of the ocean, it automatically performs a sonar sweep of the nearby sea floor. On a small screen, the sonar sweep report (your puzzle input) appears: each line is a measurement of the sea floor depth as the sweep looks further and further away from the submarine.\n",
    "\n",
    "For example, suppose you had the following report:\n",
    "\n",
    "199\n",
    "200\n",
    "208\n",
    "210\n",
    "200\n",
    "207\n",
    "240\n",
    "269\n",
    "260\n",
    "263\n",
    "This report indicates that, scanning outward from the submarine, the sonar sweep found depths of 199, 200, 208, 210, and so on.\n",
    "\n",
    "The first order of business is to figure out how quickly the depth increases, just so you know what you're dealing with - you never know if the keys will get carried into deeper water by an ocean current or a fish or something.\n",
    "\n",
    "To do this, count the number of times a depth measurement increases from the previous measurement. (There is no measurement before the first measurement.) In the example above, the changes are as follows:\n",
    "\n",
    "199 (N/A - no previous measurement)\n",
    "200 (increased)\n",
    "208 (increased)\n",
    "210 (increased)\n",
    "200 (decreased)\n",
    "207 (increased)\n",
    "240 (increased)\n",
    "269 (increased)\n",
    "260 (decreased)\n",
    "263 (increased)\n",
    "In this example, there are 7 measurements that are larger than the previous measurement.\n",
    "\n",
    "How many measurements are larger than the previous measurement?\n",
    "\"\"\""
   ]
  },
  {
   "cell_type": "code",
   "execution_count": 1,
   "id": "398d536a-5ebc-492a-beaa-7e4e227454e2",
   "metadata": {
    "tags": []
   },
   "outputs": [
    {
     "data": {
      "text/plain": [
       "1195"
      ]
     },
     "execution_count": 1,
     "metadata": {},
     "output_type": "execute_result"
    }
   ],
   "source": [
    "import os \n",
    "import numpy as np\n",
    "import matplotlib.pyplot as plt\n",
    "\n",
    "dat = np.asarray(np.loadtxt('01.txt'))\n",
    "\n",
    "dat_dx = np.diff(dat)\n",
    "np.sum(np.where(dat_dx>0,1,0))"
   ]
  },
  {
   "cell_type": "code",
   "execution_count": null,
   "id": "2aa46512-7b81-450e-8bf9-c6c60e1175d0",
   "metadata": {
    "tags": []
   },
   "outputs": [],
   "source": [
    "\"\"\"\n",
    "--- Part Two ---\n",
    "Considering every single measurement isn't as useful as you expected: there's just too much noise in the data.\n",
    "\n",
    "Instead, consider sums of a three-measurement sliding window. Again considering the above example:\n",
    "\n",
    "199  A      \n",
    "200  A B    \n",
    "208  A B C  \n",
    "210    B C D\n",
    "200  E   C D\n",
    "207  E F   D\n",
    "240  E F G  \n",
    "269    F G H\n",
    "260      G H\n",
    "263        H\n",
    "Start by comparing the first and second three-measurement windows. The measurements in the first window are marked A (199, 200, 208); their sum is 199 + 200 + 208 = 607. The second window is marked B (200, 208, 210); its sum is 618. The sum of measurements in the second window is larger than the sum of the first, so this first comparison increased.\n",
    "\n",
    "Your goal now is to count the number of times the sum of measurements in this sliding window increases from the previous sum. So, compare A with B, then compare B with C, then C with D, and so on. Stop when there aren't enough measurements left to create a new three-measurement sum.\n",
    "\n",
    "In the above example, the sum of each three-measurement window is as follows:\n",
    "\n",
    "A: 607 (N/A - no previous sum)\n",
    "B: 618 (increased)\n",
    "C: 618 (no change)\n",
    "D: 617 (decreased)\n",
    "E: 647 (increased)\n",
    "F: 716 (increased)\n",
    "G: 769 (increased)\n",
    "H: 792 (increased)\n",
    "In this example, there are 5 sums that are larger than the previous sum.\n",
    "\n",
    "Consider sums of a three-measurement sliding window. How many sums are larger than the previous sum?\n",
    "\n",
    "\"\"\""
   ]
  },
  {
   "cell_type": "code",
   "execution_count": 28,
   "id": "04463c19-1467-424a-961b-d9894db40a9d",
   "metadata": {
    "tags": []
   },
   "outputs": [],
   "source": [
    "# part 2\n",
    "dat_3 = np.zeros_like(dat)\n",
    "for i,_ in  enumerate(dat):\n",
    "    dat_3[i] = np.sum(dat[i:i+3])\n",
    "dat_3_dx = np.diff(dat_3[0:-2])\n",
    "\n",
    "np.sum(np.where(dat_3_dx>0,1,0))"
   ]
  },
  {
   "cell_type": "code",
   "execution_count": 42,
   "id": "2a45c234-5572-4518-a38d-59f73ee559d6",
   "metadata": {},
   "outputs": [
    {
     "name": "stdout",
     "output_type": "stream",
     "text": [
      "1195 1235\n"
     ]
    }
   ],
   "source": [
    "#oneliners \n",
    "part_1 = np.sum(np.where(np.diff(np.asarray(np.loadtxt('01.txt')))>0,1,0))\n",
    "\n",
    "part_2 = np.sum(np.where(np.diff([np.sum(np.asarray(np.loadtxt('01.txt'))[i:i+3]) for i , _ in enumerate(np.asarray(np.loadtxt('01.txt'))) ][0:-2])>0,1,0))\n",
    "\n",
    "print(part_1,part_2)"
   ]
  },
  {
   "cell_type": "markdown",
   "id": "bdf6d270-015d-4515-9682-76c2813f833f",
   "metadata": {},
   "source": [
    "## 2nd december"
   ]
  },
  {
   "cell_type": "code",
   "execution_count": 36,
   "id": "1a63e2de-c195-493f-bdc7-1a392efcb397",
   "metadata": {},
   "outputs": [
    {
     "data": {
      "text/plain": [
       "2272262"
      ]
     },
     "execution_count": 36,
     "metadata": {},
     "output_type": "execute_result"
    }
   ],
   "source": [
    "dat = np.loadtxt('02.txt',dtype=str)\n",
    "\n",
    "dat = np.char.split(dat)\n",
    "\n",
    "f = 0\n",
    "u = 0\n",
    "d = 0\n",
    "for i, val in enumerate(dat):\n",
    "    if dat[i][0] == ['forward']:\n",
    "        f = f + int(dat[i][1][0])\n",
    "    elif dat[i][0] == ['up']:\n",
    "        u = u + int(dat[i][1][0])\n",
    "    elif dat[i][0] == ['down']:\n",
    "        d = d + int(dat[i][1][0])\n",
    "\n",
    "f * (d-u)"
   ]
  },
  {
   "cell_type": "code",
   "execution_count": 38,
   "id": "ee40cf5d-f7ed-4242-90b8-02613db7801d",
   "metadata": {
    "tags": []
   },
   "outputs": [
    {
     "data": {
      "text/plain": [
       "2134882034"
      ]
     },
     "execution_count": 38,
     "metadata": {},
     "output_type": "execute_result"
    }
   ],
   "source": [
    "#part 2\n",
    "dat = np.loadtxt('02.txt',dtype=str)\n",
    "\n",
    "dat = np.char.split(dat)\n",
    "\n",
    "aim = 0\n",
    "hoz = 0\n",
    "depth = 0\n",
    "for i, val in enumerate(dat):\n",
    "    if dat[i][0] == ['forward']:\n",
    "        hoz = hoz + int(dat[i][1][0])\n",
    "        depth = depth + aim * int(dat[i][1][0])\n",
    "    elif dat[i][0] == ['up']:\n",
    "        aim = aim - int(dat[i][1][0])\n",
    "    elif dat[i][0] == ['down']:\n",
    "        aim = aim + int(dat[i][1][0])\n",
    "\n",
    "hoz * depth"
   ]
  },
  {
   "cell_type": "markdown",
   "id": "78986b31-1432-4fb2-b785-fbe257657465",
   "metadata": {},
   "source": [
    "## 3rd december"
   ]
  },
  {
   "cell_type": "code",
   "execution_count": 13,
   "id": "60bd9f64-38f6-4e16-9705-5060ee0a4dc5",
   "metadata": {},
   "outputs": [
    {
     "name": "stdout",
     "output_type": "stream",
     "text": [
      "range(0, 1000)\n",
      "[487 485 519 505 480 495 509 482 492 520 484 502]\n"
     ]
    }
   ],
   "source": [
    "import os \n",
    "import numpy as np\n",
    "import matplotlib.pyplot as plt\n",
    "\n",
    "dat = np.asarray(np.loadtxt('03.txt'))\n",
    "dat = [str(int(i)) for i in dat]\n",
    "\n",
    "for idx , val in enumerate(dat):\n",
    "    if len(val)<14:\n",
    "        for n in range(13-len(val)):\n",
    "            dat[idx] = '0' + dat[idx]\n",
    "\n",
    "dat_T = np.zeros(13, dtype=int)\n",
    "print(range(len(dat)))\n",
    "\n",
    "for i in range(len(dat_T)):\n",
    "    for n in range(len(dat)):\n",
    "        if dat[n][i]=='1':\n",
    "            dat_T[i] = dat_T[i] + 1\n",
    "\n",
    "    \n",
    "print(dat_T[1:])  "
   ]
  },
  {
   "cell_type": "code",
   "execution_count": 14,
   "id": "c3bfa88f-5995-46f1-88f5-85accb9d96a0",
   "metadata": {},
   "outputs": [
    {
     "name": "stdout",
     "output_type": "stream",
     "text": [
      "[0, 0, 1, 1, 0, 0, 1, 0, 0, 1, 0, 1]\n"
     ]
    }
   ],
   "source": [
    "dat_res = np.zeros_like(dat_T)\n",
    "\n",
    "dat_res = [1 if dat_T[i]-(len(dat)/2)>0 else 0 for i in range(len(dat_T))  ]\n",
    "print(dat_res[1:])"
   ]
  },
  {
   "cell_type": "code",
   "execution_count": 15,
   "id": "f6cf55fc-7770-401a-bc60-ba6690932a5c",
   "metadata": {},
   "outputs": [
    {
     "name": "stdout",
     "output_type": "stream",
     "text": [
      "805\n",
      "3290\n",
      "2648450\n"
     ]
    }
   ],
   "source": [
    "lst = dat_res[1:]\n",
    "res = int(\"\".join(str(x) for x in lst), 2)\n",
    "print(res)\n",
    "\n",
    "lst_inv = [0 if i==1 else 1 for i in lst ]\n",
    "res_inv = int(\"\".join(str(x) for x in lst_inv), 2)\n",
    "print(res_inv)\n",
    "print(res_inv*res)"
   ]
  },
  {
   "cell_type": "code",
   "execution_count": 72,
   "id": "369fa353-3484-4afe-bbef-f2e509e8fb82",
   "metadata": {
    "tags": []
   },
   "outputs": [
    {
     "name": "stdout",
     "output_type": "stream",
     "text": [
      "513\n",
      "266\n",
      "139\n",
      "73\n",
      "43\n",
      "22\n",
      "12\n",
      "8\n",
      "5\n",
      "3\n",
      "2\n",
      "1\n"
     ]
    }
   ],
   "source": [
    "# part 2 \n",
    "oxy = [dat[i][1:] for i in range(len(dat))]\n",
    "\n",
    "for i in range(len(oxy[0])):\n",
    "    if len(oxy)==1:\n",
    "        break\n",
    "    \n",
    "    oxy_T = np.zeros(12, dtype=int)\n",
    "    \n",
    "    for ii in range(len(oxy_T)):\n",
    "        for n in range(len(oxy)):\n",
    "            if oxy[n][ii]=='1':\n",
    "                oxy_T[ii] = oxy_T[ii] + 1\n",
    "\n",
    "    oxy_res = np.zeros_like(oxy_T)\n",
    "    oxy_res = [1 if oxy_T[ii]-(len(oxy)/2)>=0 else 0 for ii in range(len(oxy_T))  ]\n",
    "    #print(oxy_res)\n",
    "    for n in range(len(oxy)):\n",
    "        if int(oxy[n][i])!=oxy_res[i]:\n",
    "            oxy[n]='0'\n",
    "    oxy = [x for x in oxy if x != '0']\n",
    "    print(len(oxy))\n",
    "\n",
    "\n",
    "                "
   ]
  },
  {
   "cell_type": "code",
   "execution_count": 73,
   "id": "f1240ec6-3786-43d6-8707-ed66f8f65909",
   "metadata": {},
   "outputs": [
    {
     "name": "stdout",
     "output_type": "stream",
     "text": [
      "487\n",
      "238\n",
      "105\n",
      "45\n",
      "20\n",
      "10\n",
      "4\n",
      "1\n"
     ]
    }
   ],
   "source": [
    "co2 = [dat[i][1:] for i in range(len(dat))]\n",
    "\n",
    "for i in range(len(co2[0])):\n",
    "    if len(co2)==1:\n",
    "        break\n",
    "    \n",
    "    co2_T = np.zeros(12, dtype=int)\n",
    "    \n",
    "    for ii in range(len(co2_T)):\n",
    "        for n in range(len(co2)):\n",
    "            if co2[n][ii]=='1':\n",
    "                co2_T[ii] = co2_T[ii] + 1\n",
    "\n",
    "    co2_res = np.zeros_like(co2_T)\n",
    "    co2_res = [1 if co2_T[ii]-(len(co2)/2)>=0 else 0 for ii in range(len(co2_T))  ]\n",
    "    \n",
    "    for n in range(len(co2)):\n",
    "        if int(co2[n][i])==co2_res[i]:\n",
    "            co2[n]='0'\n",
    "    co2 = [x for x in co2 if x != '0']\n",
    "    print(len(co2))\n",
    "\n"
   ]
  },
  {
   "cell_type": "code",
   "execution_count": 74,
   "id": "ca312ea1-72bc-4348-9b69-6834480e66a3",
   "metadata": {},
   "outputs": [
    {
     "name": "stdout",
     "output_type": "stream",
     "text": [
      "['110100111000'] ['001101001001']\n"
     ]
    },
    {
     "data": {
      "text/plain": [
       "2845944"
      ]
     },
     "execution_count": 74,
     "metadata": {},
     "output_type": "execute_result"
    }
   ],
   "source": [
    "print(co2,oxy)\n",
    "int(co2[0],2)*int(oxy[0],2)"
   ]
  },
  {
   "cell_type": "markdown",
   "id": "c845c8cd-7f87-4c1a-b078-9a70096aa030",
   "metadata": {},
   "source": [
    "## 4th december"
   ]
  },
  {
   "cell_type": "code",
   "execution_count": 291,
   "id": "a1a8fc0e-d7e2-4510-a964-ce0109723e1f",
   "metadata": {},
   "outputs": [
    {
     "name": "stdout",
     "output_type": "stream",
     "text": [
      "100\n"
     ]
    }
   ],
   "source": [
    "import os \n",
    "import numpy as np\n",
    "import matplotlib.pyplot as plt\n",
    "\n",
    "input = open('04.txt').read().split(\"\\n\\n\") \n",
    "\n",
    "        \n",
    "    \n",
    "\n",
    "draw=[int(x) for x in i[0].split(\",\")] \n",
    "boards=[[[int(z) for z in y.split()] for y in x.split(\"\\n\")] for x in i[1:]] \n",
    "\n",
    "boards = np.array(boards,dtype=object)\n",
    "\n",
    "bordz = np.zeros((100,5,5))\n",
    "\n",
    "\n",
    "for x in range(bordz.shape[0]):\n",
    "    for y in range(bordz.shape[1]): \n",
    "        for z in range(bordz.shape[2]):\n",
    "            bordz[x,y,z] = int(boards[x][y][z])\n",
    "\n",
    "boards = np.copy(bordz)\n",
    "\n",
    "\n",
    "\n",
    "winners = np.zeros((1,3))\n",
    "winners = winners-1\n",
    "\n",
    "count=0\n",
    "for idx,num in enumerate(draw):\n",
    "    for x in range(0,boards.shape[0]): \n",
    "        for y in range(boards.shape[1]): \n",
    "            for z in range(boards.shape[2]):\n",
    "                if boards[x,y,z] == num:\n",
    "                    boards[x,y,z] = -1\n",
    "        for y in range(boards.shape[1]): \n",
    "            if boards[x,y,:].sum()==-5:\n",
    "                if not np.any(winners[:,0]==x):\n",
    "                    winners = np.append(winners,np.array([x,num,idx],ndmin=2),axis=0)\n",
    "        for z in range(boards.shape[2]): \n",
    "            if boards[x,:,z].sum()==-5:\n",
    "                if not np.any(winners[:,0]==x):\n",
    "                    winners = np.append(winners,np.array([x,num,idx],ndmin=2),axis=0)\n",
    "\n",
    "\n",
    "\n",
    "                    \n",
    "winners=winners[1:]   \n",
    "\n",
    "print(len(winners))\n",
    "\n"
   ]
  },
  {
   "cell_type": "code",
   "execution_count": 294,
   "id": "2f6339a5-c5e0-46c5-bfb4-984ee5dc04d8",
   "metadata": {},
   "outputs": [
    {
     "name": "stdout",
     "output_type": "stream",
     "text": [
      "33462.0\n"
     ]
    }
   ],
   "source": [
    "board = np.copy(bordz[int(winners[0][0]),:,:])\n",
    "for num in draw[:int(winners[0][2])+1]:\n",
    "    for y in range(boards.shape[1]): \n",
    "            for z in range(boards.shape[2]):\n",
    "                if board[y,z] == num:\n",
    "                    board[y,z] = 0\n",
    "                    \n",
    "part_1 = board.sum()*winners[0][1]\n",
    "print(part_1)"
   ]
  },
  {
   "cell_type": "code",
   "execution_count": 297,
   "id": "78047de8-ea04-4cd8-85ad-c22049974610",
   "metadata": {},
   "outputs": [
    {
     "name": "stdout",
     "output_type": "stream",
     "text": [
      "[[ 0.  0. 58.  0.  0.]\n",
      " [ 0.  0.  0. 43. 41.]\n",
      " [ 0. 80.  0.  0.  0.]\n",
      " [ 0.  0. 61.  0.  0.]\n",
      " [ 0. 27.  0.  0.  0.]]\n"
     ]
    },
    {
     "data": {
      "text/plain": [
       "30070.0"
      ]
     },
     "execution_count": 297,
     "metadata": {},
     "output_type": "execute_result"
    }
   ],
   "source": [
    "board = np.copy(bordz[int(winners[-1][0]),:,:])\n",
    "for num in draw[:int(winners[-1][2]+1)]:\n",
    "    for y in range(boards.shape[1]): \n",
    "            for z in range(boards.shape[2]):\n",
    "                if board[y,z] == num:\n",
    "                    board[y,z] = 0\n",
    "print(board)                    \n",
    "board.sum()*winners[-1][1]"
   ]
  },
  {
   "cell_type": "markdown",
   "id": "0c77342b-9151-4128-8567-829e7dc3d827",
   "metadata": {},
   "source": [
    "## 5th december"
   ]
  },
  {
   "cell_type": "code",
   "execution_count": 163,
   "id": "d840a777-c7a3-4265-9cbd-9ef4fdba36cb",
   "metadata": {},
   "outputs": [],
   "source": [
    "import os \n",
    "import numpy as np\n",
    "import matplotlib.pyplot as plt\n",
    "\n",
    "input = open('05.txt').read().split(\"\\n\")\n",
    "input = [i.split(\" -> \")for i in input]\n",
    "\n",
    "for i,val in enumerate(input):\n",
    "    for n in range(len(val)):\n",
    "        input[i][n] = input[i][n].split(',')\n",
    "\n",
    "        \n",
    "def getStraight(input):\n",
    "    print(1)"
   ]
  },
  {
   "cell_type": "code",
   "execution_count": 164,
   "id": "3492a202-867f-4924-a386-e09b45116803",
   "metadata": {},
   "outputs": [],
   "source": [
    "dat = np.zeros((1,4))#)np.array([])\n",
    "for i,v in enumerate(input[:-1]):\n",
    "    line = np.array([int(input[i][0][0]),int(input[i][0][1]),int(input[i][1][0]),int(input[i][1][1])],ndmin=2)\n",
    "    dat = np.append(dat , line , axis=0)\n",
    "dat = dat[1:]"
   ]
  },
  {
   "cell_type": "code",
   "execution_count": 172,
   "id": "299e8f4a-be4b-4bc8-9d84-200cf599d0f9",
   "metadata": {},
   "outputs": [
    {
     "name": "stdout",
     "output_type": "stream",
     "text": [
      "(353, 4)\n"
     ]
    },
    {
     "data": {
      "text/plain": [
       "7085"
      ]
     },
     "execution_count": 172,
     "metadata": {},
     "output_type": "execute_result"
    }
   ],
   "source": [
    "straights = np.zeros((1,4))\n",
    "\n",
    "for i,v in enumerate(dat):\n",
    "    if v[0]==v[2] or v[1]==v[3]:\n",
    "        straights = np.append(straights,v)        \n",
    "straights=straights.reshape((-1,4))[1:]\n",
    "print(np.shape(straights))\n",
    "\n",
    "res = np.zeros((1000,1000), dtype=int)\n",
    "\n",
    "for i,v in enumerate(straights):\n",
    "    if v[0]==v[2]:\n",
    "        minimum = int(np.min(v[[1,3]]))\n",
    "        maximum = int(np.max(v[[1,3]]))\n",
    "        res[int(v[0]),minimum:maximum+1]+=1\n",
    "    if v[1]==v[3]:\n",
    "        minimum = int(np.min(v[[0,2]]))\n",
    "        maximum = int(np.max(v[[0,2]]))\n",
    "        res[minimum:maximum+1,int(v[1])]+=1\n",
    "\n",
    "np.shape(np.where(res>1))[1]\n",
    "        "
   ]
  },
  {
   "cell_type": "code",
   "execution_count": 201,
   "id": "05941023-ef0f-479d-9995-9c33ccb89abd",
   "metadata": {},
   "outputs": [
    {
     "data": {
      "text/plain": [
       "20271"
      ]
     },
     "execution_count": 201,
     "metadata": {},
     "output_type": "execute_result"
    }
   ],
   "source": [
    "lines = np.zeros((1,4))\n",
    "\n",
    "for i,v in enumerate(dat):\n",
    "    lines = np.append(lines,v)        \n",
    "lines=lines.reshape((-1,4))[1:]\n",
    "\n",
    "res = np.zeros((1000,1000), dtype=int)\n",
    "\n",
    "for i,v in enumerate(lines):\n",
    "    if v[0]==v[2]:\n",
    "        minimum = int(np.min(v[[1,3]]))\n",
    "        maximum = int(np.max(v[[1,3]]))\n",
    "        res[int(v[0]),minimum:maximum+1]+=1\n",
    "    if v[1]==v[3]:\n",
    "        minimum = int(np.min(v[[0,2]]))\n",
    "        maximum = int(np.max(v[[0,2]]))\n",
    "        res[minimum:maximum+1,int(v[1])]+=1\n",
    "    if np.abs(v[0]-v[2])==np.abs(v[1]-v[3]):\n",
    "        diffx = v[2]-v[0]\n",
    "        diffy = v[3]-v[1]\n",
    "        \n",
    "        for n in range(int(np.abs(diffx)+1)):\n",
    "            res[int(v[0]+int(n*np.sign(diffx))),int(v[1]+int(n*np.sign(diffy)))]+=1\n",
    "        \n",
    "        \n",
    "np.shape(np.where(res>1))[1]\n",
    "        "
   ]
  },
  {
   "cell_type": "markdown",
   "id": "fc9ceb14-1d1f-4bba-b0ca-d6d702f0170e",
   "metadata": {},
   "source": [
    "## 6th december"
   ]
  },
  {
   "cell_type": "code",
   "execution_count": 3,
   "id": "9d0523b2-0e29-48d9-a56a-d233217c524f",
   "metadata": {},
   "outputs": [],
   "source": [
    "import os \n",
    "import numpy as np\n",
    "import matplotlib.pyplot as plt\n",
    "\n",
    "with open('06.txt') as f:\n",
    "    lines = f.readlines()\n",
    "    \n",
    "    \n",
    "dat = np.asarray(lines[0][:].split(','))\n",
    "dat = np.asarray([int(i) for i in dat])\n",
    "\n",
    "\n",
    "def lantern(arr):\n",
    "    for i,_ in enumerate(arr):\n",
    "        arr[i]=arr[i]-1\n",
    "    idx = np.where(arr==-1)\n",
    "    arr[idx]=6\n",
    "    \n",
    "    if len(idx[0])>0:\n",
    "        for n in range(0,len(idx[0])):\n",
    "            arr = np.append(arr,8)\n",
    "    return arr\n",
    "\n",
    "def days(arr,n):\n",
    "    for i in range(0,n):\n",
    "        arr = lantern(arr)\n",
    "        \n",
    "    return arr\n",
    "res = days(dat,1)"
   ]
  },
  {
   "cell_type": "code",
   "execution_count": 1,
   "id": "b62186d3-5690-49d4-bc4f-8d5e15799ae2",
   "metadata": {},
   "outputs": [
    {
     "name": "stdout",
     "output_type": "stream",
     "text": [
      "Part 1 395627\n",
      "Part 2 1767323539209\n"
     ]
    }
   ],
   "source": [
    "#actual solution to the problem\n",
    "with open('06.txt') as f:\n",
    "    dat = f.readlines()\n",
    "dat = dat[:][0]\n",
    "\n",
    "from collections import deque\n",
    "\n",
    "def count_fish(data, days):\n",
    "    life = [0]*9\n",
    "    for i in data.split(','): life[int(i)] += 1\n",
    "    fish = deque(life)\n",
    "    \n",
    "    for i in range(days):\n",
    "        spawn = fish.popleft()\n",
    "        fish[-2] += spawn\n",
    "        fish.append(spawn)\n",
    "    return sum(fish)\n",
    "\n",
    "print('Part 1', count_fish(dat, 80))\n",
    "print('Part 2', count_fish(dat, 256))"
   ]
  },
  {
   "cell_type": "markdown",
   "id": "0eaec066-1d54-459e-aaf2-b305bd1abb96",
   "metadata": {},
   "source": [
    "## 7th december"
   ]
  },
  {
   "cell_type": "code",
   "execution_count": 1,
   "id": "71f75ecc-89a9-431d-ad79-549a8e02be43",
   "metadata": {},
   "outputs": [
    {
     "name": "stdout",
     "output_type": "stream",
     "text": [
      "Target pos 321.0, Fuel: 335330.0\n",
      "Target pos 457, Fuel: 92439766.0\n"
     ]
    }
   ],
   "source": [
    "import os \n",
    "import numpy as np\n",
    "import matplotlib.pyplot as plt\n",
    "\n",
    "data = [int(i) for i in open(\"07.txt\").read().split(\",\")]\n",
    "\n",
    "t = np.median(data)\n",
    "f = sum([abs(x-t) for x in data])\n",
    "print(f\"Target pos {t}, Fuel: {f}\")\n",
    "\n",
    "\n",
    "cost = {i:sum([abs(x-i) * (abs(x-i)+1) / 2 for x in data]) for i in range(0, max(np.unique(data)))}\n",
    "#print(cost)\n",
    "result = min(cost, key=cost.get)\n",
    "print(f\"Target pos {result}, Fuel: {cost[result]}\")"
   ]
  },
  {
   "cell_type": "markdown",
   "id": "bfc6a234-fd46-4d73-9214-a5e0942fd145",
   "metadata": {},
   "source": [
    "## 8th december"
   ]
  },
  {
   "cell_type": "code",
   "execution_count": 5,
   "id": "77b5abf8-0526-4c1c-ae53-36ea81071852",
   "metadata": {},
   "outputs": [
    {
     "name": "stdout",
     "output_type": "stream",
     "text": [
      "Part 1:  365\n",
      "Part 2:  975706\n"
     ]
    }
   ],
   "source": [
    "from itertools import permutations\n",
    "\n",
    "with open(\"08.txt\") as f:\n",
    "    data = f.readlines()\n",
    "\n",
    "d = {\"abcefg\": 0,\"cf\": 1,\"acdeg\": 2,\"acdfg\": 3,\"bcdf\": 4,\"abdfg\": 5,\"abdefg\": 6,\"acf\": 7,\"abcdefg\": 8,\"abcdfg\": 9,}\n",
    "\n",
    "part_1 = 0\n",
    "part_2 = 0\n",
    "for line in data:\n",
    "    a, b = line.split(\" | \")\n",
    "    a = a.split()\n",
    "    b = b.split()\n",
    "    part_1 += sum(len(code) in {2, 3, 4, 7} for code in b)\n",
    "    for permutation in permutations(\"abcdefg\"):\n",
    "        to = str.maketrans(\"abcdefg\", \"\".join(permutation))\n",
    "        aa = [\"\".join(sorted(code.translate(to))) for code in a]\n",
    "        bb = [\"\".join(sorted(code.translate(to))) for code in b]\n",
    "        if all(code in d for code in aa):\n",
    "            part_2 += int(\"\".join(str(d[code]) for code in bb))\n",
    "            break\n",
    "\n",
    "print('Part 1: ',part_1)\n",
    "print('Part 2: ',part_2)"
   ]
  },
  {
   "cell_type": "markdown",
   "id": "2db4692a-0598-40b0-8c0d-2e9b7111c647",
   "metadata": {},
   "source": [
    "## 9th december"
   ]
  },
  {
   "cell_type": "code",
   "execution_count": null,
   "id": "36bdb08b-44e4-442f-bd4c-b5f6020fb7ef",
   "metadata": {},
   "outputs": [],
   "source": []
  },
  {
   "cell_type": "markdown",
   "id": "4ce9458d-399c-4cef-bb6e-d54defefa165",
   "metadata": {},
   "source": [
    "## 10th december"
   ]
  },
  {
   "cell_type": "code",
   "execution_count": null,
   "id": "b1816194-af53-4ea2-b74d-162bcd1bd189",
   "metadata": {},
   "outputs": [],
   "source": []
  },
  {
   "cell_type": "markdown",
   "id": "b393a900-99ef-4fc4-b32e-ecd63180557c",
   "metadata": {},
   "source": [
    "## 11th december"
   ]
  },
  {
   "cell_type": "code",
   "execution_count": null,
   "id": "e63bb4d1-d2d7-4d32-80be-214689871499",
   "metadata": {},
   "outputs": [],
   "source": []
  },
  {
   "cell_type": "markdown",
   "id": "73667a2c-ba39-4167-af86-28c8d8e75c31",
   "metadata": {},
   "source": [
    "## 12th december"
   ]
  },
  {
   "cell_type": "code",
   "execution_count": null,
   "id": "e025a2f7-b966-47b8-a11f-5c955587df4d",
   "metadata": {},
   "outputs": [],
   "source": []
  },
  {
   "cell_type": "markdown",
   "id": "aac37691-c30d-4f61-943b-625f76628307",
   "metadata": {},
   "source": [
    "## 13th december"
   ]
  },
  {
   "cell_type": "code",
   "execution_count": null,
   "id": "74fcfa93-f630-4192-9b7b-c9965c37adaf",
   "metadata": {},
   "outputs": [],
   "source": []
  },
  {
   "cell_type": "markdown",
   "id": "cd749521-c91a-40a0-a316-5e61d3f1eab1",
   "metadata": {},
   "source": [
    "## 14th december"
   ]
  },
  {
   "cell_type": "code",
   "execution_count": null,
   "id": "c07e79bb-df19-4313-92c3-9a569f64b35f",
   "metadata": {},
   "outputs": [],
   "source": []
  },
  {
   "cell_type": "markdown",
   "id": "5c21495f-28b3-434b-a73b-b8cb3e511d97",
   "metadata": {},
   "source": [
    "## 15th december"
   ]
  },
  {
   "cell_type": "code",
   "execution_count": null,
   "id": "90d111e3-7886-4d07-8eb0-d39b75e012de",
   "metadata": {},
   "outputs": [],
   "source": []
  },
  {
   "cell_type": "markdown",
   "id": "2b3b345f-b27f-443b-b2d6-d1c95b3f6d2c",
   "metadata": {},
   "source": [
    "## 16th december"
   ]
  },
  {
   "cell_type": "code",
   "execution_count": null,
   "id": "4f977ae0-0514-4947-9a1e-bd5a2c7b4800",
   "metadata": {},
   "outputs": [],
   "source": []
  },
  {
   "cell_type": "markdown",
   "id": "3eebfddb-d6db-47d0-9e05-b8846d5b4851",
   "metadata": {},
   "source": [
    "## 17th december"
   ]
  },
  {
   "cell_type": "code",
   "execution_count": null,
   "id": "32c12a9c-37d1-4365-a945-09cf59fdca54",
   "metadata": {},
   "outputs": [],
   "source": []
  },
  {
   "cell_type": "markdown",
   "id": "34f1dba6-9d91-450e-919d-ca3935ef21a6",
   "metadata": {},
   "source": [
    "## 18th december"
   ]
  },
  {
   "cell_type": "code",
   "execution_count": null,
   "id": "4f8d4323-2058-4c47-8d78-508fef040d62",
   "metadata": {},
   "outputs": [],
   "source": []
  },
  {
   "cell_type": "markdown",
   "id": "deda5ee8-b658-4c72-b89e-891b381ac22c",
   "metadata": {},
   "source": [
    "## 19th december"
   ]
  },
  {
   "cell_type": "code",
   "execution_count": null,
   "id": "4cc8c8df-a0db-4a30-88bc-6c0984e294b4",
   "metadata": {},
   "outputs": [],
   "source": []
  },
  {
   "cell_type": "markdown",
   "id": "32731815-d73d-4d59-93b2-e35650d54a85",
   "metadata": {},
   "source": [
    "## 20th december"
   ]
  },
  {
   "cell_type": "code",
   "execution_count": null,
   "id": "c2f236f8-661e-474a-b606-1f61ebd97785",
   "metadata": {},
   "outputs": [],
   "source": []
  },
  {
   "cell_type": "markdown",
   "id": "de9ada5b-84c9-4620-8f71-bcf82dfe4079",
   "metadata": {},
   "source": [
    "## 21th december"
   ]
  },
  {
   "cell_type": "code",
   "execution_count": null,
   "id": "7ac3af40-97e9-4c43-aefe-6616eccc8c7d",
   "metadata": {},
   "outputs": [],
   "source": []
  },
  {
   "cell_type": "markdown",
   "id": "f9085372-a933-409a-a3f2-b83edfa1a50e",
   "metadata": {},
   "source": [
    "## 22th december"
   ]
  },
  {
   "cell_type": "code",
   "execution_count": null,
   "id": "6c908467-2304-4806-9426-7bb1a9e37f00",
   "metadata": {},
   "outputs": [],
   "source": []
  },
  {
   "cell_type": "markdown",
   "id": "ec7391b9-4e7a-4ba3-a8ca-88c22e0098e4",
   "metadata": {},
   "source": [
    "## 23th december"
   ]
  },
  {
   "cell_type": "code",
   "execution_count": null,
   "id": "6d0915ed-a621-41b6-a2d4-d9a134bf0321",
   "metadata": {},
   "outputs": [],
   "source": []
  },
  {
   "cell_type": "markdown",
   "id": "bc85a54e-faff-479d-b65a-2608600900ac",
   "metadata": {},
   "source": [
    "## 24th december"
   ]
  },
  {
   "cell_type": "code",
   "execution_count": null,
   "id": "ea569ec8-634c-47f9-9082-0f2ea539f9b4",
   "metadata": {},
   "outputs": [],
   "source": []
  },
  {
   "cell_type": "markdown",
   "id": "cbb27e04-2ce5-40dc-947c-a8a536931d1e",
   "metadata": {},
   "source": [
    "## 25th december"
   ]
  },
  {
   "cell_type": "code",
   "execution_count": null,
   "id": "1a2efdfe-13a4-43c9-9f3f-50f095a9d850",
   "metadata": {},
   "outputs": [],
   "source": []
  }
 ],
 "metadata": {
  "kernelspec": {
   "display_name": "Python 3",
   "language": "python",
   "name": "python3"
  },
  "language_info": {
   "codemirror_mode": {
    "name": "ipython",
    "version": 3
   },
   "file_extension": ".py",
   "mimetype": "text/x-python",
   "name": "python",
   "nbconvert_exporter": "python",
   "pygments_lexer": "ipython3",
   "version": "3.9.5"
  }
 },
 "nbformat": 4,
 "nbformat_minor": 5
}
